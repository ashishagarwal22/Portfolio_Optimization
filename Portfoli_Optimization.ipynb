{
  "nbformat": 4,
  "nbformat_minor": 0,
  "metadata": {
    "colab": {
      "name": "Portfoli Optimization.ipynb",
      "provenance": [],
      "collapsed_sections": []
    },
    "kernelspec": {
      "name": "python3",
      "display_name": "Python 3"
    }
  },
  "cells": [
    {
      "cell_type": "code",
      "metadata": {
        "id": "YyomKtvPTMX0",
        "colab_type": "code",
        "colab": {
          "base_uri": "https://localhost:8080/",
          "height": 70
        },
        "outputId": "610d300a-f759-4e9a-b51b-8140337b375a"
      },
      "source": [
        "import numpy as np\n",
        "import pandas as pd\n",
        "import pandas_datareader.data as web\n",
        "import matplotlib.pyplot as plt"
      ],
      "execution_count": null,
      "outputs": [
        {
          "output_type": "stream",
          "text": [
            "/usr/local/lib/python3.6/dist-packages/pandas_datareader/compat/__init__.py:7: FutureWarning: pandas.util.testing is deprecated. Use the functions in the public API at pandas.testing instead.\n",
            "  from pandas.util.testing import assert_frame_equal\n"
          ],
          "name": "stderr"
        }
      ]
    },
    {
      "cell_type": "code",
      "metadata": {
        "id": "k9vFEGpTVDQZ",
        "colab_type": "code",
        "colab": {}
      },
      "source": [
        "stocks = ['HDFC.NS', 'IOLCP.NS', 'AUBANK.NS', 'MGL.NS', 'CAPPL.BO', 'NESCO.NS', 'ATUL.NS', 'TIINDIA.NS', 'VSTIND.NS', 'MASFIN.BO']"
      ],
      "execution_count": null,
      "outputs": []
    },
    {
      "cell_type": "code",
      "metadata": {
        "id": "p0Rbj1dBW-1V",
        "colab_type": "code",
        "colab": {}
      },
      "source": [
        "df = web.DataReader(stocks,data_source = 'yahoo', start = '01/01/2017', end ='31/12/2019')['Adj Close']\n",
        "df.sort_index(inplace =True)"
      ],
      "execution_count": null,
      "outputs": []
    },
    {
      "cell_type": "code",
      "metadata": {
        "id": "aScQ-Bw4aCTv",
        "colab_type": "code",
        "colab": {}
      },
      "source": [
        "returns = df.pct_change()"
      ],
      "execution_count": null,
      "outputs": []
    },
    {
      "cell_type": "code",
      "metadata": {
        "id": "thQuYalLaO4a",
        "colab_type": "code",
        "colab": {}
      },
      "source": [
        "mean_daily_returns = returns.mean()\n",
        "cov_matrix = returns.cov()"
      ],
      "execution_count": null,
      "outputs": []
    },
    {
      "cell_type": "code",
      "metadata": {
        "id": "HP2sKXgvaSP_",
        "colab_type": "code",
        "colab": {}
      },
      "source": [
        "num_portfolios = 50000\n",
        "results = np.zeros((4+len(stocks)-1,num_portfolios))"
      ],
      "execution_count": null,
      "outputs": []
    },
    {
      "cell_type": "code",
      "metadata": {
        "id": "JTduLmcCaeEE",
        "colab_type": "code",
        "colab": {}
      },
      "source": [
        "for i in range(num_portfolios):\n",
        "    #select random weights for portfolio holdings\n",
        "    weights = np.array(np.random.random(10))\n",
        "    #rebalance weights to sum to 1\n",
        "    weights /= np.sum(weights)\n",
        "    \n",
        "    #calculate portfolio return and volatility\n",
        "    portfolio_return = np.sum(mean_daily_returns * weights) * 252\n",
        "    portfolio_std_dev = np.sqrt(np.dot(weights.T,np.dot(cov_matrix, weights))) * np.sqrt(252)\n",
        "    \n",
        "    #store results in results array\n",
        "    results[0,i] = portfolio_return\n",
        "    results[1,i] = portfolio_std_dev\n",
        "    #store Sharpe Ratio (return / volatility) - risk free rate element excluded for simplicity\n",
        "    results[2,i] = results[0,i] / results[1,i]\n",
        "    #iterate through the weight vector and add data to results array\n",
        "    for j in range(len(weights)):\n",
        "        results[j+3,i] = weights[j]"
      ],
      "execution_count": null,
      "outputs": []
    },
    {
      "cell_type": "code",
      "metadata": {
        "id": "gCnqEdj7bz7J",
        "colab_type": "code",
        "colab": {}
      },
      "source": [
        "results_frame = pd.DataFrame(results.T,\n",
        "                             columns=['ret','stdev','sharpe'\n",
        "                                      ,stocks[0],stocks[1],stocks[2]\n",
        "                                      ,stocks[3],stocks[4],stocks[5]\n",
        "                                      ,stocks[6],stocks[7],stocks[8]\n",
        "                                      ,stocks[9]])"
      ],
      "execution_count": null,
      "outputs": []
    },
    {
      "cell_type": "code",
      "metadata": {
        "id": "u07AixSSpKP1",
        "colab_type": "code",
        "colab": {
          "base_uri": "https://localhost:8080/",
          "height": 195
        },
        "outputId": "980b7d0b-45a5-43a2-f8f7-08cee8c63a51"
      },
      "source": [
        "results_frame.head()"
      ],
      "execution_count": null,
      "outputs": [
        {
          "output_type": "execute_result",
          "data": {
            "text/html": [
              "<div>\n",
              "<style scoped>\n",
              "    .dataframe tbody tr th:only-of-type {\n",
              "        vertical-align: middle;\n",
              "    }\n",
              "\n",
              "    .dataframe tbody tr th {\n",
              "        vertical-align: top;\n",
              "    }\n",
              "\n",
              "    .dataframe thead th {\n",
              "        text-align: right;\n",
              "    }\n",
              "</style>\n",
              "<table border=\"1\" class=\"dataframe\">\n",
              "  <thead>\n",
              "    <tr style=\"text-align: right;\">\n",
              "      <th></th>\n",
              "      <th>ret</th>\n",
              "      <th>stdev</th>\n",
              "      <th>sharpe</th>\n",
              "      <th>HDFC.NS</th>\n",
              "      <th>IOLCP.NS</th>\n",
              "      <th>AUBANK.NS</th>\n",
              "      <th>MGL.NS</th>\n",
              "      <th>CAPPL.BO</th>\n",
              "      <th>NESCO.NS</th>\n",
              "      <th>ATUL.NS</th>\n",
              "      <th>TIINDIA.NS</th>\n",
              "      <th>VSTIND.NS</th>\n",
              "      <th>MASFIN.BO</th>\n",
              "    </tr>\n",
              "  </thead>\n",
              "  <tbody>\n",
              "    <tr>\n",
              "      <th>0</th>\n",
              "      <td>0.249719</td>\n",
              "      <td>0.148236</td>\n",
              "      <td>1.684605</td>\n",
              "      <td>0.133196</td>\n",
              "      <td>0.095076</td>\n",
              "      <td>0.132504</td>\n",
              "      <td>0.120169</td>\n",
              "      <td>0.036149</td>\n",
              "      <td>0.077388</td>\n",
              "      <td>0.138239</td>\n",
              "      <td>0.076796</td>\n",
              "      <td>0.145160</td>\n",
              "      <td>0.045323</td>\n",
              "    </tr>\n",
              "    <tr>\n",
              "      <th>1</th>\n",
              "      <td>0.199684</td>\n",
              "      <td>0.183159</td>\n",
              "      <td>1.090222</td>\n",
              "      <td>0.094410</td>\n",
              "      <td>0.021440</td>\n",
              "      <td>0.039813</td>\n",
              "      <td>0.026868</td>\n",
              "      <td>0.207799</td>\n",
              "      <td>0.195831</td>\n",
              "      <td>0.002580</td>\n",
              "      <td>0.042027</td>\n",
              "      <td>0.110993</td>\n",
              "      <td>0.258239</td>\n",
              "    </tr>\n",
              "    <tr>\n",
              "      <th>2</th>\n",
              "      <td>0.233630</td>\n",
              "      <td>0.193535</td>\n",
              "      <td>1.207168</td>\n",
              "      <td>0.050048</td>\n",
              "      <td>0.191413</td>\n",
              "      <td>0.128734</td>\n",
              "      <td>0.081780</td>\n",
              "      <td>0.072439</td>\n",
              "      <td>0.180289</td>\n",
              "      <td>0.081970</td>\n",
              "      <td>0.016593</td>\n",
              "      <td>0.012770</td>\n",
              "      <td>0.183964</td>\n",
              "    </tr>\n",
              "    <tr>\n",
              "      <th>3</th>\n",
              "      <td>0.229856</td>\n",
              "      <td>0.189052</td>\n",
              "      <td>1.215837</td>\n",
              "      <td>0.198217</td>\n",
              "      <td>0.189840</td>\n",
              "      <td>0.150417</td>\n",
              "      <td>0.101789</td>\n",
              "      <td>0.131522</td>\n",
              "      <td>0.122829</td>\n",
              "      <td>0.000808</td>\n",
              "      <td>0.013602</td>\n",
              "      <td>0.042837</td>\n",
              "      <td>0.048140</td>\n",
              "    </tr>\n",
              "    <tr>\n",
              "      <th>4</th>\n",
              "      <td>0.224014</td>\n",
              "      <td>0.200924</td>\n",
              "      <td>1.114917</td>\n",
              "      <td>0.139325</td>\n",
              "      <td>0.189000</td>\n",
              "      <td>0.203032</td>\n",
              "      <td>0.040518</td>\n",
              "      <td>0.173965</td>\n",
              "      <td>0.183131</td>\n",
              "      <td>0.028850</td>\n",
              "      <td>0.018397</td>\n",
              "      <td>0.005866</td>\n",
              "      <td>0.017916</td>\n",
              "    </tr>\n",
              "  </tbody>\n",
              "</table>\n",
              "</div>"
            ],
            "text/plain": [
              "        ret     stdev    sharpe  ...  TIINDIA.NS  VSTIND.NS  MASFIN.BO\n",
              "0  0.249719  0.148236  1.684605  ...    0.076796   0.145160   0.045323\n",
              "1  0.199684  0.183159  1.090222  ...    0.042027   0.110993   0.258239\n",
              "2  0.233630  0.193535  1.207168  ...    0.016593   0.012770   0.183964\n",
              "3  0.229856  0.189052  1.215837  ...    0.013602   0.042837   0.048140\n",
              "4  0.224014  0.200924  1.114917  ...    0.018397   0.005866   0.017916\n",
              "\n",
              "[5 rows x 13 columns]"
            ]
          },
          "metadata": {
            "tags": []
          },
          "execution_count": 48
        }
      ]
    },
    {
      "cell_type": "code",
      "metadata": {
        "id": "o2GmYwReb2cR",
        "colab_type": "code",
        "colab": {}
      },
      "source": [
        "max_sharpe_port = results_frame.iloc[results_frame['sharpe'].idxmax()]\n",
        "min_vol_port = results_frame.iloc[results_frame['stdev'].idxmin()]"
      ],
      "execution_count": null,
      "outputs": []
    },
    {
      "cell_type": "code",
      "metadata": {
        "id": "W0NqmCPgb_Is",
        "colab_type": "code",
        "colab": {
          "base_uri": "https://localhost:8080/",
          "height": 296
        },
        "outputId": "c01dfcde-439f-4cfe-c1ae-7b836d21cad3"
      },
      "source": [
        "plt.scatter(results_frame.stdev,results_frame.ret,c=results_frame.sharpe,cmap='RdYlBu')\n",
        "plt.xlabel('Volatility')\n",
        "plt.ylabel('Returns')\n",
        "plt.colorbar()\n",
        "plt.scatter(max_sharpe_port[1],max_sharpe_port[0],marker=(5,1,0),color='r',s=1000)\n",
        "plt.scatter(min_vol_port[1],min_vol_port[0],marker=(5,1,0),color='g',s=1000)"
      ],
      "execution_count": null,
      "outputs": [
        {
          "output_type": "execute_result",
          "data": {
            "text/plain": [
              "<matplotlib.collections.PathCollection at 0x7f5330c6d6a0>"
            ]
          },
          "metadata": {
            "tags": []
          },
          "execution_count": 30
        },
        {
          "output_type": "display_data",
          "data": {
            "image/png": "[encoded data removed]",
            "text/plain": [
              "<Figure size 432x288 with 2 Axes>"
            ]
          },
          "metadata": {
            "tags": [],
            "needs_background": "light"
          }
        }
      ]
    },
    {
      "cell_type": "code",
      "metadata": {
        "id": "TPpgHZijcAoF",
        "colab_type": "code",
        "colab": {
          "base_uri": "https://localhost:8080/",
          "height": 269
        },
        "outputId": "c6c02a05-0544-4c2c-dc63-07591a2e441a"
      },
      "source": [
        "print(\"Portfolio with Maximum Sharpe Ratio\")\n",
        "print(max_sharpe_port)"
      ],
      "execution_count": null,
      "outputs": [
        {
          "output_type": "stream",
          "text": [
            "Portfolio with Maximum Sharpe Ratio\n",
            "ret           0.266811\n",
            "stdev         0.136652\n",
            "sharpe        1.952484\n",
            "HDFC.NS       0.162460\n",
            "IOLCP.NS      0.005345\n",
            "AUBANK.NS     0.025444\n",
            "MGL.NS        0.069448\n",
            "CAPPL.BO      0.011992\n",
            "NESCO.NS      0.140828\n",
            "ATUL.NS       0.177885\n",
            "TIINDIA.NS    0.188850\n",
            "VSTIND.NS     0.175081\n",
            "MASFIN.BO     0.042667\n",
            "Name: 34352, dtype: float64\n"
          ],
          "name": "stdout"
        }
      ]
    },
    {
      "cell_type": "code",
      "metadata": {
        "id": "Da-Rvo9-cCbn",
        "colab_type": "code",
        "colab": {
          "base_uri": "https://localhost:8080/",
          "height": 269
        },
        "outputId": "fec250f2-eacb-4352-e5e9-806c44000260"
      },
      "source": [
        "print(\"Portfolio with Minimum Volatility\")\n",
        "print(min_vol_port)"
      ],
      "execution_count": null,
      "outputs": [
        {
          "output_type": "stream",
          "text": [
            "Portfolio with Minimum Volatility\n",
            "ret           0.247219\n",
            "stdev         0.131337\n",
            "sharpe        1.882324\n",
            "HDFC.NS       0.197032\n",
            "IOLCP.NS      0.010799\n",
            "AUBANK.NS     0.064385\n",
            "MGL.NS        0.141440\n",
            "CAPPL.BO      0.028452\n",
            "NESCO.NS      0.103351\n",
            "ATUL.NS       0.201928\n",
            "TIINDIA.NS    0.080441\n",
            "VSTIND.NS     0.150875\n",
            "MASFIN.BO     0.021298\n",
            "Name: 41779, dtype: float64\n"
          ],
          "name": "stdout"
        }
      ]
    },
    {
      "cell_type": "code",
      "metadata": {
        "id": "wNDweFqacFRe",
        "colab_type": "code",
        "colab": {}
      },
      "source": [
        ""
      ],
      "execution_count": null,
      "outputs": []
    }
  ]
}